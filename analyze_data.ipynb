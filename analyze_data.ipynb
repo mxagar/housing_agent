{
 "cells": [
  {
   "cell_type": "markdown",
   "metadata": {},
   "source": [
    "# Housing Analysis"
   ]
  },
  {
   "cell_type": "markdown",
   "metadata": {},
   "source": [
    "This notebook analyzes real estate data from https://www.idealista.com."
   ]
  },
  {
   "cell_type": "markdown",
   "metadata": {},
   "source": [
    "## 1. Get the Data!"
   ]
  },
  {
   "cell_type": "code",
   "execution_count": 13,
   "metadata": {},
   "outputs": [],
   "source": [
    "import idealista_api\n",
    "import pandas as pd\n",
    "import datetime\n",
    "import time"
   ]
  },
  {
   "cell_type": "code",
   "execution_count": 19,
   "metadata": {},
   "outputs": [],
   "source": [
    "def query(num_items):\n",
    "    '''\n",
    "    Quick and dirty custom query.\n",
    "    Query parameters are hard-coded.\n",
    "    Idealista API is queried with the parameters.\n",
    "    '''\n",
    "    # Housing Parameters\n",
    "    country = 'es' # values: es, it, pt\n",
    "    locale = 'es' # values: es, it, pt, en, ca\n",
    "    language = 'es'\n",
    "    operation = 'sale' # rent\n",
    "    property_type = 'homes'\n",
    "    order = 'priceDown'\n",
    "    # Bidebieta: 43.32222093197415, -1.940486953608932\n",
    "    # Lasarte: 43.27044123284123, -2.0200276593105064\n",
    "    # Hernani: 43.266944705720235, -1.9751387613285116\n",
    "    # Zarautz: 43.28563835253485, -2.167198244296092\n",
    "    center = '43.32222093197415,-1.940486953608932'\n",
    "    distance = '5000'\n",
    "    sort = 'desc'\n",
    "    flat = 'true'\n",
    "    #elevator= 'true'\n",
    "\n",
    "    # Search parameters\n",
    "    max_items = '50'\n",
    "    #page_limit = int(num_items/int(max_items))\n",
    "    page_limit = 2\n",
    "    df_tot = pd.DataFrame()\n",
    "\n",
    "    # Search in a loop\n",
    "    # Watch out: free tier: 100 req/month, 1 req/sec\n",
    "    for page in range(1, page_limit):\n",
    "        url = ('https://api.idealista.com/3.5/'+country+'/search?operation='+operation+\n",
    "            '&maxItems='+max_items+\n",
    "            '&order='+order+\n",
    "            '&center='+center+\n",
    "            '&distance='+distance+\n",
    "            '&propertyType='+property_type+\n",
    "            '&sort='+sort+ \n",
    "            '&flat='+flat+\n",
    "#            '&elevator='+elevator+\n",
    "            '&numPage=%s'+\n",
    "            '&language='+language) %(page)  \n",
    "        a = idealista_api.search_api(idealista_api.get_oauth_token(), url)\n",
    "        df = pd.DataFrame.from_dict(a['elementList'])\n",
    "        df_tot = pd.concat([df_tot,df])\n",
    "        time.sleep(1.5)\n",
    "\n",
    "    df_tot = df_tot.reset_index()\n",
    "    df_tot['date'] = datetime.date.today()\n",
    "    return df_tot"
   ]
  },
  {
   "cell_type": "code",
   "execution_count": null,
   "metadata": {},
   "outputs": [],
   "source": [
    "# Custom query - quick and dirty for now\n",
    "num_items = 2500\n",
    "df = query(num_items)\n",
    "df.to_csv('./data/test.csv')"
   ]
  },
  {
   "cell_type": "markdown",
   "metadata": {},
   "source": [
    "## 2. Clean the Data"
   ]
  },
  {
   "cell_type": "code",
   "execution_count": 28,
   "metadata": {},
   "outputs": [],
   "source": [
    "#df = pd.read_csv('./data/test.csv')\n",
    "df = pd.read_csv('./data/Week1_data_idealista_flat_elevatorTrueDistance6000.csv')"
   ]
  },
  {
   "cell_type": "code",
   "execution_count": 29,
   "metadata": {},
   "outputs": [
    {
     "name": "stdout",
     "output_type": "stream",
     "text": [
      "<class 'pandas.core.frame.DataFrame'>\n",
      "RangeIndex: 1155 entries, 0 to 1154\n",
      "Data columns (total 39 columns):\n",
      " #   Column                  Non-Null Count  Dtype  \n",
      "---  ------                  --------------  -----  \n",
      " 0   Unnamed: 0              1155 non-null   int64  \n",
      " 1   index                   1155 non-null   int64  \n",
      " 2   propertyCode            1155 non-null   int64  \n",
      " 3   thumbnail               1149 non-null   object \n",
      " 4   externalReference       877 non-null    object \n",
      " 5   numPhotos               1155 non-null   int64  \n",
      " 6   floor                   1135 non-null   object \n",
      " 7   price                   1155 non-null   float64\n",
      " 8   propertyType            1155 non-null   object \n",
      " 9   operation               1155 non-null   object \n",
      " 10  size                    1155 non-null   float64\n",
      " 11  exterior                1155 non-null   bool   \n",
      " 12  rooms                   1155 non-null   int64  \n",
      " 13  bathrooms               1155 non-null   int64  \n",
      " 14  address                 1155 non-null   object \n",
      " 15  province                1155 non-null   object \n",
      " 16  municipality            1155 non-null   object \n",
      " 17  district                1155 non-null   object \n",
      " 18  country                 1155 non-null   object \n",
      " 19  neighborhood            618 non-null    object \n",
      " 20  latitude                1155 non-null   float64\n",
      " 21  longitude               1155 non-null   float64\n",
      " 22  showAddress             1155 non-null   bool   \n",
      " 23  url                     1155 non-null   object \n",
      " 24  distance                1155 non-null   int64  \n",
      " 25  hasVideo                1155 non-null   bool   \n",
      " 26  status                  1155 non-null   object \n",
      " 27  newDevelopment          1155 non-null   bool   \n",
      " 28  hasLift                 1155 non-null   bool   \n",
      " 29  parkingSpace            212 non-null    object \n",
      " 30  priceByArea             1155 non-null   float64\n",
      " 31  detailedType            1155 non-null   object \n",
      " 32  suggestedTexts          1155 non-null   object \n",
      " 33  hasPlan                 1155 non-null   bool   \n",
      " 34  has3DTour               1155 non-null   bool   \n",
      " 35  has360                  1155 non-null   bool   \n",
      " 36  hasStaging              1155 non-null   bool   \n",
      " 37  topNewDevelopment       1155 non-null   bool   \n",
      " 38  newDevelopmentFinished  21 non-null     object \n",
      "dtypes: bool(10), float64(5), int64(7), object(17)\n",
      "memory usage: 273.1+ KB\n"
     ]
    }
   ],
   "source": [
    "df.info()"
   ]
  },
  {
   "cell_type": "code",
   "execution_count": 30,
   "metadata": {},
   "outputs": [
    {
     "data": {
      "text/plain": [
       "1128"
      ]
     },
     "execution_count": 30,
     "metadata": {},
     "output_type": "execute_result"
    }
   ],
   "source": [
    "df['propertyCode'].nunique()"
   ]
  },
  {
   "cell_type": "code",
   "execution_count": null,
   "metadata": {},
   "outputs": [],
   "source": []
  }
 ],
 "metadata": {
  "kernelspec": {
   "display_name": "Python 3",
   "language": "python",
   "name": "python3"
  },
  "language_info": {
   "codemirror_mode": {
    "name": "ipython",
    "version": 3
   },
   "file_extension": ".py",
   "mimetype": "text/x-python",
   "name": "python",
   "nbconvert_exporter": "python",
   "pygments_lexer": "ipython3",
   "version": "3.6.8"
  }
 },
 "nbformat": 4,
 "nbformat_minor": 2
}
